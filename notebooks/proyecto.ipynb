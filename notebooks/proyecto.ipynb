{
 "cells": [
  {
   "cell_type": "code",
   "execution_count": 7,
   "id": "33a8f326",
   "metadata": {},
   "outputs": [
    {
     "name": "stdout",
     "output_type": "stream",
     "text": [
      "Iniciando proceso de unificación...\n",
      "-> Cargando datos del año 2012...\n",
      "   ...Datos del año 2012 cargados con éxito.\n",
      "-> Cargando datos del año 2013...\n",
      "   ...Datos del año 2013 cargados con éxito.\n",
      "-> Cargando datos del año 2014...\n",
      "   ...Datos del año 2014 cargados con éxito.\n",
      "-> Cargando datos del año 2015...\n",
      "   ...Datos del año 2015 cargados con éxito.\n",
      "-> Cargando datos del año 2016...\n",
      "   ...Datos del año 2016 cargados con éxito.\n",
      "-> Cargando datos del año 2017...\n",
      "   ...Datos del año 2017 cargados con éxito.\n",
      "-> Cargando datos del año 2018...\n",
      "   ...Datos del año 2018 cargados con éxito.\n"
     ]
    }
   ],
   "source": [
    "import pandas as pd\n",
    "\n",
    "archivos_demre = {\n",
    "    2012: '1dw0KFah64rKdsb1oaqEGC0-6qafY4khl',\n",
    "    2013: '1rkXXIxrX_5Y3ajjMWePZicH8V6M5wioF',\n",
    "    2014: '1PTvgmLiUTNf-fZ5CiowjbZJz_c356aPx',\n",
    "    2015: '1tKq6C8Cb-OVWcMibddcaVS-ruWG8RZ98',\n",
    "    2016: '1FvcYDKS7vkR6YkDdl93Mwkws83WilMtA',\n",
    "    2017: '1XGirhyVEEhgWdicYLq1jZ5ZOb8Cn99qX',\n",
    "    2018: '1EVpqietS_JUYssi6xjfcnN-tXadocq1r',\n",
    "}\n",
    "\n",
    "lista_de_dataframes = []\n",
    "\n",
    "print(\"Iniciando proceso de unificación...\")\n",
    "\n",
    "# Usamos un bucle para recorrer cada año y cada ID en nuestro diccionario.\n",
    "for anio, file_id in archivos_demre.items():\n",
    "    try:\n",
    "        # Construimos la URL de descarga para el archivo actual\n",
    "        url = f'https://drive.google.com/uc?export=download&id={file_id}'\n",
    "\n",
    "        # Leemos el CSV desde la URL\n",
    "        print(f\"-> Cargando datos del año {anio}...\")\n",
    "        df_temporal = pd.read_csv(url, sep=';')\n",
    "\n",
    "        # ¡Este es el paso clave! Creamos una nueva columna con el año.\n",
    "        df_temporal['anio_proceso'] = anio\n",
    "\n",
    "        # Agregamos el DataFrame de este año a nuestra lista.\n",
    "        lista_de_dataframes.append(df_temporal)\n",
    "        print(f\"   ...Datos del año {anio} cargados con éxito.\")\n",
    "\n",
    "    except Exception as e:\n",
    "        print(f\"   !!! Error al cargar el año {anio}: {e}\")\n"
   ]
  },
  {
   "cell_type": "code",
   "execution_count": 2,
   "id": "10a6dbb8",
   "metadata": {},
   "outputs": [
    {
     "name": "stdout",
     "output_type": "stream",
     "text": [
      "Index(['ID_aux', 'RBD', 'GRUPO_DEPENDENCIA', 'RAMA', 'SITUACION_EGRESO',\n",
      "       'CODIGO_REGION', 'CODIGO_COMUNA', 'LENG_ACTUAL', 'MATE_ACTUAL',\n",
      "       'HCSO_ACTUAL', 'CIEN_ACTUAL', 'MODULO_ACTUAL', 'LENG_ANTERIOR',\n",
      "       'MATE_ANTERIOR', 'HCSO_ANTERIOR', 'CIEN_ANTERIOR', 'MODULO_ANTERIOR',\n",
      "       'PROM_NOTAS', 'PTJE_NEM', 'anio_proceso'],\n",
      "      dtype='object')\n",
      "Index(['ID_aux', 'RBD', 'GRUPO_DEPENDENCIA', 'RAMA', 'SITUACION_EGRESO',\n",
      "       'CODIGO_REGION', 'CODIGO_COMUNA', 'LENG_ACTUAL', 'MATE_ACTUAL',\n",
      "       'HCSO_ACTUAL', 'CIEN_ACTUAL', 'MODULO_ACTUAL', 'LENG_ANTERIOR',\n",
      "       'MATE_ANTERIOR', 'HCSO_ANTERIOR', 'CIEN_ANTERIOR', 'MODULO_ANTERIOR',\n",
      "       'PROM_NOTAS', 'PTJE_NEM', 'PTJE_RANKING', 'anio_proceso'],\n",
      "      dtype='object')\n",
      "Index(['ID_aux', 'RBD', 'GRUPO_DEPENDENCIA', 'RAMA', 'SITUACION_EGRESO',\n",
      "       'CODIGO_REGION', 'CODIGO_COMUNA', 'LENG_ACTUAL', 'MATE_ACTUAL',\n",
      "       'HCSO_ACTUAL', 'CIEN_ACTUAL', 'MODULO_ACTUAL', 'LENG_ANTERIOR',\n",
      "       'MATE_ANTERIOR', 'HCSO_ANTERIOR', 'CIEN_ANTERIOR', 'MODULO_ANTERIOR',\n",
      "       'PROM_NOTAS', 'PTJE_NEM', 'PTJE_RANKING', 'anio_proceso'],\n",
      "      dtype='object')\n",
      "Index(['ID_aux', 'RBD', 'GRUPO_DEPENDENCIA', 'RAMA', 'SITUACION_EGRESO',\n",
      "       'CODIGO_REGION', 'CODIGO_COMUNA', 'LENG_ACTUAL', 'MATE_ACTUAL',\n",
      "       'HCSO_ACTUAL', 'CIEN_ACTUAL', 'MODULO_ACTUAL', 'LENG_ANTERIOR',\n",
      "       'MATE_ANTERIOR', 'HCSO_ANTERIOR', 'CIEN_ANTERIOR', 'MODULO_ANTERIOR',\n",
      "       'PROM_NOTAS', 'PTJE_NEM', 'PTJE_RANKING', 'anio_proceso'],\n",
      "      dtype='object')\n",
      "Index(['ID_aux', 'RBD', 'GRUPO_DEPENDENCIA', 'RAMA', 'SITUACION_EGRESO',\n",
      "       'CODIGO_REGION', 'CODIGO_COMUNA', 'LENG_ACTUAL', 'MATE_ACTUAL',\n",
      "       'HCSO_ACTUAL', 'CIEN_ACTUAL', 'MODULO_ACTUAL', 'LENG_ANTERIOR',\n",
      "       'MATE_ANTERIOR', 'HCSO_ANTERIOR', 'CIEN_ANTERIOR', 'MODULO_ANTERIOR',\n",
      "       'PROM_NOTAS', 'PTJE_NEM', 'PTJE_RANKING', 'anio_proceso'],\n",
      "      dtype='object')\n",
      "Index(['ID_aux', 'RBD', 'COD_ENS', 'GRUPO_DEPENDENCIA', 'RAMA',\n",
      "       'SITUACION_EGRESO', 'CODIGO_REGION', 'CODIGO_COMUNA',\n",
      "       'PERCENTIL_LM_ACTUAL', 'LENG_ACTUAL', 'MATE_ACTUAL', 'HCSO_ACTUAL',\n",
      "       'CIEN_ACTUAL', 'MODULO_ACTUAL', 'PERCENTIL_LM_ANTERIOR',\n",
      "       'LENG_ANTERIOR', 'MATE_ANTERIOR', 'HCSO_ANTERIOR', 'CIEN_ANTERIOR',\n",
      "       'MODULO_ANTERIOR', 'PROM_NOTAS', 'PTJE_NEM', 'PTJE_RANKING',\n",
      "       'anio_proceso'],\n",
      "      dtype='object')\n",
      "Index(['ID_aux', 'RBD', 'COD_ENS', 'GRUPO_DEPENDENCIA', 'RAMA_EDUCACIONAL',\n",
      "       'SITUACION_EGRESO', 'CODIGO_REGION', 'CODIGO_COMUNA', 'PROMEDIO_NOTAS',\n",
      "       'PTJE_NEM', 'PTJE_RANKING', 'LENG_ACTUAL', 'MATE_ACTUAL', 'HCSO_ACTUAL',\n",
      "       'CIEN_ACTUAL', 'MODULO_ACTUAL', 'PROMEDIO_LM_ACTUAL',\n",
      "       'PERCENTIL_LM_ACTUAL', 'LENG_ANTERIOR', 'MATE_ANTERIOR',\n",
      "       'HCSO_ANTERIOR', 'CIEN_ANTERIOR', 'MODULO_ANTERIOR',\n",
      "       'PROMEDIO_LM_ANTERIOR', 'PERCENTIL_LM_ANTERIOR', 'anio_proceso'],\n",
      "      dtype='object')\n"
     ]
    }
   ],
   "source": [
    "for i in lista_de_dataframes:\n",
    "    print(i.columns)"
   ]
  },
  {
   "cell_type": "code",
   "execution_count": 3,
   "id": "8705029d",
   "metadata": {},
   "outputs": [
    {
     "name": "stdout",
     "output_type": "stream",
     "text": [
      "RAMA_EDUCACIONAL año 2012\n",
      "PROMEDIO_NOTAS año 2012\n",
      "PTJE_RANKING año 2012\n",
      "RAMA_EDUCACIONAL año 2013\n",
      "PROMEDIO_NOTAS año 2013\n",
      "RAMA_EDUCACIONAL año 2014\n",
      "PROMEDIO_NOTAS año 2014\n",
      "RAMA_EDUCACIONAL año 2015\n",
      "PROMEDIO_NOTAS año 2015\n",
      "RAMA_EDUCACIONAL año 2016\n",
      "PROMEDIO_NOTAS año 2016\n",
      "RAMA_EDUCACIONAL año 2017\n",
      "PROMEDIO_NOTAS año 2017\n"
     ]
    }
   ],
   "source": [
    "columnas = [\n",
    "    'ID_aux',\n",
    "    'RBD',\n",
    "    'GRUPO_DEPENDENCIA',\n",
    "    'RAMA_EDUCACIONAL',\n",
    "    'SITUACION_EGRESO',\n",
    "    'CODIGO_REGION',\n",
    "    'CODIGO_COMUNA',\n",
    "    'PROMEDIO_NOTAS',\n",
    "    'PTJE_NEM',\n",
    "    'PTJE_RANKING',\n",
    "    'LENG_ACTUAL',\n",
    "    'MATE_ACTUAL',\n",
    "    'HCSO_ACTUAL',\n",
    "    'CIEN_ACTUAL',\n",
    "    'anio_proceso'\n",
    "]\n",
    "\n",
    "#Verificacion de que las columnas seleccionadas tengas el mismo nombre\n",
    "\n",
    "for i in lista_de_dataframes:\n",
    "    for j in columnas:\n",
    "        if j not in i.columns:\n",
    "            print(j + f\" año {i[\"anio_proceso\"][0]}\")"
   ]
  },
  {
   "cell_type": "code",
   "execution_count": null,
   "id": "a187bb96",
   "metadata": {},
   "outputs": [],
   "source": [
    "#Cambiamos las columnas respectivas\n",
    "\n",
    "for i in lista_de_dataframes:\n",
    "    if \"RAMA\" in i.columns:\n",
    "        i.rename(columns={\"RAMA\" : \"RAMA_EDUCACIONAL\"}, inplace=True)\n",
    "    if \"PROM_NOTAS\" in i:\n",
    "        i.rename(columns={\"PROM_NOTAS\" : \"PROMEDIO_NOTAS\"}, inplace=True)"
   ]
  },
  {
   "cell_type": "code",
   "execution_count": 5,
   "id": "4030c358",
   "metadata": {},
   "outputs": [
    {
     "name": "stdout",
     "output_type": "stream",
     "text": [
      "PTJE_RANKING año 2012\n"
     ]
    }
   ],
   "source": [
    "columnas = [\n",
    "    'ID_aux',\n",
    "    'RBD',\n",
    "    'GRUPO_DEPENDENCIA',\n",
    "    'RAMA_EDUCACIONAL',\n",
    "    'SITUACION_EGRESO',\n",
    "    'CODIGO_REGION',\n",
    "    'CODIGO_COMUNA',\n",
    "    'PROMEDIO_NOTAS',\n",
    "    'PTJE_NEM',\n",
    "    'PTJE_RANKING',\n",
    "    'LENG_ACTUAL',\n",
    "    'MATE_ACTUAL',\n",
    "    'HCSO_ACTUAL',\n",
    "    'CIEN_ACTUAL',\n",
    "    'anio_proceso'\n",
    "]\n",
    "\n",
    "#Verificacion de que las columnas seleccionadas tengas el mismo nombre\n",
    "todos = True\n",
    "\n",
    "for i in lista_de_dataframes:\n",
    "    for j in columnas:\n",
    "        if j not in i.columns:\n",
    "            print(j + f\" año {i[\"anio_proceso\"][0]}\")\n",
    "            todos = False\n",
    "\n",
    "if todos:\n",
    "    print(\"Las columnas estan correctas!\")"
   ]
  }
 ],
 "metadata": {
  "kernelspec": {
   "display_name": "Python 3",
   "language": "python",
   "name": "python3"
  },
  "language_info": {
   "codemirror_mode": {
    "name": "ipython",
    "version": 3
   },
   "file_extension": ".py",
   "mimetype": "text/x-python",
   "name": "python",
   "nbconvert_exporter": "python",
   "pygments_lexer": "ipython3",
   "version": "3.12.9"
  }
 },
 "nbformat": 4,
 "nbformat_minor": 5
}
